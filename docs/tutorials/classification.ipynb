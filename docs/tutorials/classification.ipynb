{
 "cells": [
  {
   "attachments": {},
   "cell_type": "markdown",
   "metadata": {},
   "source": [
    "# Zero-Shot Classification\n",
    "\n",
    "Another core capability provided by **ralf** is zero-shot classification (ZSC) using\n",
    "Large Language Models (LLMs). Zero-shot classification allows you to classify\n",
    "text inputs without training (or fine-tuning) a model on the specific classification\n",
    "task. Instead, zero-shot classification with LLMs relies on the the in-context \n",
    "learning capabilities of language models to perform classification with few or no\n",
    "examples specified in the prompt.\n",
    "\n",
    "In **ralf**, zero-shot classification involves a two-step process. The first uses a\n",
    "causal langauge model (i.e., one that creates text) to generate a class label given\n",
    "an input. Because there may be variations in what this model outputs, we employ a\n",
    "second step to project the class label predicted by the causal LLM onto the closed\n",
    "set of class names. This second step is performed by using a masked language model \n",
    "(i.e., one that embeds text) to compute embeddings for the emitted class name and the\n",
    "reference class names, then selecting the reference name with greatest cosine similarity to the\n",
    "one emitted by the causal LLM.\n",
    "\n",
    "To perform ZSC, we start by creating the classifier itself:"
   ]
  },
  {
   "cell_type": "code",
   "execution_count": 17,
   "metadata": {},
   "outputs": [],
   "source": [
    "from ralf import classifier\n",
    "\n",
    "sentiment_classifier = classifier.ZeroShotClassifier()"
   ]
  },
  {
   "attachments": {},
   "cell_type": "markdown",
   "metadata": {},
   "source": [
    "We might also want to further specify how the classifier works by configuring\n",
    "attributes of the completion model and/or the encoder model."
   ]
  },
  {
   "cell_type": "code",
   "execution_count": 18,
   "metadata": {},
   "outputs": [],
   "source": [
    "sentiment_classifier = classifier.ZeroShotClassifier(\n",
    "    completion_model_config={'model':'gpt-4'},\n",
    "    encoder_model_name='all-MiniLM-L6-v2',\n",
    ")"
   ]
  },
  {
   "attachments": {},
   "cell_type": "markdown",
   "metadata": {},
   "source": [
    "Next, we add classes to the classifier. We do so by providing a name for each class.\n",
    "Keep in mind that because we are using a language model to perform classification, \n",
    "the class names will have a large impact on the behavior of the classifier. We can\n",
    "optionally provide examples for each of the classes we add.\n",
    "\n",
    "In the below example, we create a 3-class classifier for sentiment analysis."
   ]
  },
  {
   "cell_type": "code",
   "execution_count": 19,
   "metadata": {},
   "outputs": [],
   "source": [
    "sentiment_classifier.add_class(\"positive\", examples=[\"this couldn't be better\"])\n",
    "sentiment_classifier.add_class(\"negative\", examples=[\"I'm unimpressed.\",\n",
    "                                                     \"not her best work...\"])\n",
    "sentiment_classifier.add_class(\"neutral\")"
   ]
  },
  {
   "attachments": {},
   "cell_type": "markdown",
   "metadata": {},
   "source": [
    "Just like that, we are ready to test our classifier on new inputs!"
   ]
  },
  {
   "cell_type": "code",
   "execution_count": 20,
   "metadata": {},
   "outputs": [
    {
     "name": "stdout",
     "output_type": "stream",
     "text": [
      "'It's fine, just don't expect too much!' -> neutral\n",
      "'A big miss.' -> negative\n",
      "'Marvelous performance' -> positive\n"
     ]
    }
   ],
   "source": [
    "text_inputs = [\"It's fine, just don't expect too much!\",\n",
    "               \"A big miss.\",\n",
    "               \"Marvelous performance\"]\n",
    "\n",
    "for x in text_inputs:\n",
    "    pred, scores = sentiment_classifier(x)\n",
    "    print(f\"'{x}' -> {pred}\")"
   ]
  },
  {
   "attachments": {},
   "cell_type": "markdown",
   "metadata": {},
   "source": [
    "As you can see, setting up a zero-shot text classifier in **ralf** is \n",
    "very straightforward."
   ]
  }
 ],
 "metadata": {
  "kernelspec": {
   "display_name": "fm",
   "language": "python",
   "name": "python3"
  },
  "language_info": {
   "codemirror_mode": {
    "name": "ipython",
    "version": 3
   },
   "file_extension": ".py",
   "mimetype": "text/x-python",
   "name": "python",
   "nbconvert_exporter": "python",
   "pygments_lexer": "ipython3",
   "version": "3.10.8"
  },
  "orig_nbformat": 4
 },
 "nbformat": 4,
 "nbformat_minor": 2
}
